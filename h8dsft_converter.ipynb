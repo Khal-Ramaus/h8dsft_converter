{
  "nbformat": 4,
  "nbformat_minor": 0,
  "metadata": {
    "colab": {
      "name": "h8dsft_converter.ipynb",
      "provenance": [],
      "collapsed_sections": [],
      "authorship_tag": "ABX9TyPjX/RoUY1DJznHA9D0BxTh",
      "include_colab_link": true
    },
    "kernelspec": {
      "name": "python3",
      "display_name": "Python 3"
    },
    "language_info": {
      "name": "python"
    }
  },
  "cells": [
    {
      "cell_type": "markdown",
      "metadata": {
        "id": "view-in-github",
        "colab_type": "text"
      },
      "source": [
        "<a href=\"https://colab.research.google.com/github/Khal-Ramaus/h8dsft_converter/blob/master/h8dsft_converter.ipynb\" target=\"_parent\"><img src=\"https://colab.research.google.com/assets/colab-badge.svg\" alt=\"Open In Colab\"/></a>"
      ]
    },
    {
      "cell_type": "code",
      "metadata": {
        "id": "I62NADQ_Izti"
      },
      "source": [
        "def CandK(s):\n",
        "  \"Function to Convert Celsius to Kelvin or Kelvin to Celsius\"\n",
        "  if ('Celsius' in s):\n",
        "    s = s.replace('Celsius', '') # Jika ada string \"Celsius\" maka akan dihilangkan\n",
        "    x = float(s) # mengubah string jadi float\n",
        "    return x + 273.15 # rumus celsius ke kelvin\n",
        "  elif ('Kelvin' in s):\n",
        "    s = s.replace('Kelvin', '') # Jika ada string \"Kelvin\" maka akan dihilangkan\n",
        "    x = float(s) # mengubah string jadi float\n",
        "    return x - 273.15 # rumus kelvin ke celsius\n",
        "\n",
        "def toF(s):\n",
        "  \"Function to convert Celsius or Kelvin to Fahrenheit\"\n",
        "  if ('Celsius' in s):\n",
        "    s = s.replace('Celsius', '') # Jika ada string \"Celsius\" maka akan dihilangkan\n",
        "    x = float(s) # mengubah string jadi float\n",
        "    return (x * 9/5) + 32 # rumus celsius ke fahrenheit\n",
        "  elif ('Kelvin' in s):\n",
        "    x = CandK(s) # Jika ada string \"Kelvin\" maka akan dihilangkan\n",
        "    return (x * 9/5) + 32 # rumus kelvin ke fahrenheit\n",
        "\n",
        "def fromF(s, s2):\n",
        "  \"Function to Convert Fahrenheit to Celsius or Kelvin\"\n",
        "  if ('Celsius' in s2):\n",
        "    s = s.replace('Fahrenheit', '') # Jika ada string \"Fahrenheit\" maka akan dihilangkan\n",
        "    x = float(s) # mengubah string jadi float\n",
        "    return (x - 32) * 5/9 # rumus fahrenheit ke celsius\n",
        "  elif ('Kelvin' in s2):\n",
        "    s = s.replace('Fahrenheit', '') # Jika ada string \"Fahrenheit\" maka akan dihilangkan\n",
        "    x = float(s) # mengubah string jadi float\n",
        "    return (x - 32) * 5/9 + 273.15 # rumus fahrenheit ke kelvin\n",
        "\n",
        "while True:\n",
        "  st = input(\"Input with format number and capitalize degree\\nexample:1 Celsius\\n\") # user input nomor lalu satuan suhu dengan huruf pertama kalpital\n",
        "  #if (('Celsius' not in st) or ('Kelvin' not in st) or ('Fahrenheit' not in st)):\n",
        "  if (('Celsius' in st) or ('Kelvin' in st) or ('Fahrenheit' in st)):\n",
        "    while True:\n",
        "      st2 = input(\"Input Degree to Convert\\nInput with Celsius, Kelvin or Fahrenheit \") # user input satuan suhu yg ingin dikonversi\n",
        "      if ('Celsius' in st): # Jika string pertama ada Celsius\n",
        "        if ('Kelvin' in st2): # Jika string kedua ada Kelvin\n",
        "          print(CandK(st),\"Kelvin\") # Memanggil fungsi CandK() lalu print satuan suhu nya\n",
        "          break # Keluar dari looping\n",
        "        elif ('Fahrenheit' in st2): # Jika string kedua ada Fahrenheit\n",
        "          print(toF(st), \"Fahrenheit\") # Memanggil fungsi toF() lalu print satuan suhu nya\n",
        "          break # Keluar dari looping\n",
        "        else: # Jika user tidak menginput satuan suhu, atau satuan suhu sama dengan string yang pertama\n",
        "          print(\"Canot input the same deegree or you dont input any degree\") \n",
        "          continue # Kembali ke looping, lalu mengulangi input string ke dua\n",
        "      elif ('Kelvin' in st): # Jika string pertama ada Kelvin\n",
        "        if ('Celsius' in st2): # Jika string kedua ada Celsius\n",
        "          print(CandK(st), \"Celsius\") # Memanggil fungsi CandK() lalu print satuan suhu nya\n",
        "          break # Keluar dari looping\n",
        "        elif ('Fahrenheit' in st2): # Jika string kedua ada Fahrenheit\n",
        "          print(toF(st), \"Fahrenheit\") # Memanggil fungsi toF() lalu print satuan suhu nya\n",
        "          break # Keluar dari looping\n",
        "        else: # Jika user tidak menginput satuan suhu, atau satuan suhu sama dengan string yang pertama\n",
        "          print(\"Canot input the same deegree or you dont input any degree\")\n",
        "          continue  # Kembali ke looping, lalu mengulangi input string ke dua\n",
        "      elif ('Fahrenheit' in st):  # Jika string pertama ada Fahrenheit\n",
        "        if ('Celsius' in st2): # Jika string kedua ada Celsius\n",
        "          print(fromF(st, st2), \"Celsius\")  # Memanggil fungsi fromF() lalu print satuan suhu nya\n",
        "          break # Keluar dari looping\n",
        "        elif ('Kelvin' in st2): # Jika string kedua ada Kelvin\n",
        "          print(fromF(st, st2), \"Kelvin\") # Memanggil fungsi fromF() lalu print satuan suhu nya\n",
        "          break # Keluar dari looping\n",
        "        else: # Jika user tidak menginput satuan suhu, atau satuan suhu sama dengan string yang pertama\n",
        "          print(\"Canot input the same deegree or you dont input any degree\")\n",
        "          continue # Kembali ke looping, lalu mengulangi input string ke dua           \n",
        "      break # Keluar dari looping\n",
        "    break # keluar dari looping\n",
        "  else: # jika user tidak menginput Celsius, Kelvin atau Fahrenheit\n",
        "    #print(\"Input with format number and capitalize degree\\nexample:1 Celsius\")\n",
        "    continue # Kembali ke looping, user input lagi berapa derajat yang ingin di convert"
      ],
      "execution_count": null,
      "outputs": []
    }
  ]
}